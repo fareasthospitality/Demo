{
 "cells": [
  {
   "cell_type": "markdown",
   "metadata": {},
   "source": [
    "### Objective\n",
    "- Purpose of this is to automate as many of the manual activities involved in pre-processing the various files required to feed the SAS scripts which load data into ORCA1 and ORCA2."
   ]
  },
  {
   "cell_type": "code",
   "execution_count": 3,
   "metadata": {
    "collapsed": true
   },
   "outputs": [],
   "source": [
    "import pandas as pd\n",
    "import os\n",
    "import sys\n",
    "import re\n",
    "import importlib\n",
    "import zipfile\n",
    "import datetime\n",
    "import openpyxl\n",
    "import shutil\n",
    "import subprocess\n",
    "from pandas import DataFrame, Series\n",
    "from openpyxl.utils.dataframe import dataframe_to_rows\n",
    "\n",
    "# pandas options\n",
    "pd.set_option('display.max_columns', None)  # Shows all columns in DataFrames. See http://pandas.pydata.org/pandas-docs/stable/options.html\n",
    "pd.set_option('display.max_rows', None) # Shows all rows in DataFrames.\n",
    "pd.set_option('display.width', 5000)\n",
    "pd.set_option('display.multi_sparse', False)  #  Display every cell (for multi-level index).\n",
    "pd.set_option('display.max_colwidth', -1)  # Display full contents of each column."
   ]
  },
  {
   "cell_type": "code",
   "execution_count": 2,
   "metadata": {},
   "outputs": [
    {
     "name": "stdout",
     "output_type": "stream",
     "text": [
      "[UNZIPPING]: CAG.zip\n",
      "[UNZIPPING]: Reservation Analytics 11Jul15 fwd 60 days.zip\n",
      "[UNZIPPING]: Reservation Analytics 11Jul15 fwd 61 days.zip\n",
      "[UNZIPPING]: Reservation Analytics 20 Jul15 Fwd Cancellations.zip\n",
      "[UNZIPPING]: Reservation Analytics RES -History.zip\n",
      "[MESSGAGE] Renaming files\n",
      "[MESSAGE] Renaming column names\n",
      "[MESSAGE] Generating EzRMS blank data template file\n",
      "[MESSAGE] ORCA loader pre-processing completed\n"
     ]
    }
   ],
   "source": [
    "# Global variable definitions #\n",
    "str_dir = 'C:/1/orca_loader'  # Directory containing all the source ZIP files.\n",
    "str_date = str.upper(datetime.datetime.today().strftime('%d%b%Y'))  # Today's date in prescribed DDMMMYYYY format.\n",
    "\n",
    "# Unzip all .ZIP files in a given directory, to get all .XLSX files. Assumption is that all file names are unique. #\n",
    "str_cwd = os.getcwd()   # Store existing cwd.\n",
    "os.chdir(str_dir)  # Change the current working directory.\n",
    "\n",
    "for file in os.listdir(str_dir):\n",
    "    if file.endswith(\".zip\"):\n",
    "        str_fn = file #os.path.join(str_dir, file)\n",
    "        print('[UNZIPPING]: {}'.format(str_fn))\n",
    "        with zipfile.ZipFile(str_fn,\"r\") as zip_ref:\n",
    "            zip_ref.extractall(str_dir)    \n",
    "\n",
    "# Rename all .XLSX files #\n",
    "print('[MESSGAGE] Renaming files')\n",
    "# Craft old and new file names for file renaming purposes\n",
    "l_dir_files = os.listdir(str_dir)\n",
    "# Filename: CAG (Allotment Groups)\n",
    "str_fn_old_cag = os.path.join(str_dir, [s for s in l_dir_files if \"CAG.xlsx\" in s][0])\n",
    "str_fn_new_cag = os.path.join(str_dir, 'OP_FWD_CAG_' + str_date + '_AM.xlsx')\n",
    "# Filename: Opera Cancellation\n",
    "str_fn_old_cancellations = os.path.join(str_dir, [s for s in l_dir_files if \"Cancellations.xlsx\" in s][0])\n",
    "str_fn_new_cancellations = os.path.join(str_dir, 'OP_FWD_CAN_' + str_date + '_AM.xlsx')\n",
    "# Filename: Opera History\n",
    "str_fn_old_history = os.path.join(str_dir, [s for s in l_dir_files if \"History.xlsx\" in s][0])\n",
    "str_fn_new_history = os.path.join(str_dir, 'OP_RES_HIS_' + str_date + '.xlsx')\n",
    "# Filename: Opera 60 days (Opera 60 days OTB)\n",
    "str_fn_old_60d = os.path.join(str_dir, [s for s in l_dir_files if \"60 days.xlsx\" in s][0])\n",
    "str_fn_new_60d = os.path.join(str_dir, 'OP_RES_' + str_date + '_AM_60.xlsx')\n",
    "# Filename: Opera 61 days (Opera 61 days onwards OTB)\n",
    "str_fn_old_61d = os.path.join(str_dir, [s for s in l_dir_files if \"61 days.xlsx\" in s][0])\n",
    "str_fn_new_61d = os.path.join(str_dir, 'OP_RES_' + str_date + '_AM_61.xlsx')\n",
    "# Filename: EzRMS blank template\n",
    "str_fn_ezrms = os.path.join(str_dir, 'EzRMS_' + str_date + '.xlsx')\n",
    "\n",
    "os.rename(src=str_fn_old_cag, dst=str_fn_new_cag)\n",
    "os.rename(src=str_fn_old_cancellations, dst=str_fn_new_cancellations)\n",
    "os.rename(src=str_fn_old_history, dst=str_fn_new_history)\n",
    "os.rename(src=str_fn_old_60d, dst=str_fn_new_60d)\n",
    "os.rename(src=str_fn_old_61d, dst=str_fn_new_61d)\n",
    "\n",
    "# Rename column name in Opera History and Opera 61 days files #\n",
    "print('[MESSAGE] Renaming column names')\n",
    "# Opera History\n",
    "wb = openpyxl.load_workbook(str_fn_new_history)\n",
    "ws = wb['Guest profile']   # Zoom in to this Worksheet.\n",
    "for col in range(1, 10):  # Considering only the first row, because the header names are here.\n",
    "    if ws.cell(row=1, column=col).value is not None:\n",
    "        ws.cell(row=1, column=col).value = ws.cell(row=1, column=col).value.replace('Special Requests (Codes)', 'Special Requests (Descriptions)')\n",
    "wb.save(str_fn_new_history)\n",
    "\n",
    "# Opera 61 days file\n",
    "wb = openpyxl.load_workbook(str_fn_new_61d)\n",
    "ws = wb['Guest profile']   # Zoom in to this Worksheet.\n",
    "for col in range(1, 10):  # Considering only the first row, because the header names are here.\n",
    "    if ws.cell(row=1, column=col).value is not None:\n",
    "        ws.cell(row=1, column=col).value = ws.cell(row=1, column=col).value.replace('Special Requests (Codes)', 'Special Requests (Descriptions)')\n",
    "wb.save(str_fn_new_61d)\n",
    "\n",
    "# Generate EzRMS blank data template Excel file #\n",
    "# To run the 2 EzRMS reports -> Export to TSV -> paste into here.\n",
    "print('[MESSAGE] Generating EzRMS blank data template file')\n",
    "# Payload to go into each Worksheet. We want to generate the Worksheet headers for convenience.\n",
    "l_forecast_number = ['Date','DOW','ACH_OCC','CVH_OCC','GLH_OCC','OHS_OCC','OPH_OCC','TES_OCC','TQH_OCC','EVH_OCC','RHS_OCC','OHD_OCC','OKL_OCC','All_OCC','ACH_PFO','CVH_PFO','GLH_PFO','OHS_PFO','OPH_PFO','TES_PFO','TQH_PFO','EVH_PFO','RHS_PFO','OHD_PFO','OKL_PFO','All_PFO']\n",
    "l_otb = ['Date','DOW','BookingCategory','ACH_TY','CVH_TY','GLH_TY','OHS_TY','OPH_TY','TES_TY','TQH_TY','EVH_TY','RHS_TY','OHD_TY','OKL_TY','ACH_LY','CVH_LY','GLH_LY','OHS_LY','OPH_LY','TES_LY','TQH_LY','EVH_LY','RHS_LY','OHD_LY','OKL_LY']\n",
    "df_forecast_number = DataFrame(columns=l_forecast_number)\n",
    "df_otb = DataFrame(columns=l_otb)\n",
    "\n",
    "wb = openpyxl.Workbook()\n",
    "# Worksheet: 'Forecast Number'\n",
    "ws = wb.create_sheet('Forecast Number')\n",
    "for row in dataframe_to_rows(df_forecast_number, index=False, header=True):\n",
    "    ws.append(row)\n",
    "for cell in ws[1]:\n",
    "    cell.style = 'Pandas'\n",
    "# Worksheet: 'OTB '\n",
    "ws = wb.create_sheet('OTB ')  # Note the trailing space, because the SAS program is checking for this string!\n",
    "for row in dataframe_to_rows(df_otb, index=False, header=True):\n",
    "    ws.append(row)\n",
    "for cell in ws[1]:\n",
    "    cell.style = 'Pandas'\n",
    "wb.save(str_fn_ezrms)\n",
    "\n",
    "print('[MESSAGE] ORCA loader pre-processing completed')\n",
    "os.chdir(str_cwd)"
   ]
  },
  {
   "cell_type": "code",
   "execution_count": null,
   "metadata": {
    "collapsed": true
   },
   "outputs": [],
   "source": []
  },
  {
   "cell_type": "code",
   "execution_count": 6,
   "metadata": {
    "collapsed": true
   },
   "outputs": [],
   "source": [
    "# Copy files from remote source folder to local target folder.\n",
    "str_source_folder = 'C:/1/orca_loader/files'  # The remote folder.\n",
    "str_target_folder = 'C:/1/orca_loader/files/temp'  # The local target folder.\n",
    "\n",
    "l_src_files = os.listdir(str_source_folder)\n",
    "for str_fn_src in l_src_files:\n",
    "    str_fn_full_src = os.path.join(str_source_folder, str_fn_src)\n",
    "    if (os.path.isfile(str_fn_full_src)):\n",
    "        if str_fn_full_src.endswith(\".xlsx\"):  # Take only the XLSX files.\n",
    "            shutil.copy(src=str_fn_full_src, dst=os.path.join(str_target_folder, str_fn_src))\n"
   ]
  },
  {
   "cell_type": "code",
   "execution_count": 14,
   "metadata": {
    "collapsed": true
   },
   "outputs": [],
   "source": [
    "import subprocess\n",
    "p = subprocess.Popen('C:/1/orca_loader/batch/sas_load_op_am.bat', shell=True, stdout=subprocess.PIPE, stderr=subprocess.STDOUT)\n"
   ]
  }
 ],
 "metadata": {
  "kernelspec": {
   "display_name": "Python 3",
   "language": "python",
   "name": "python3"
  },
  "language_info": {
   "codemirror_mode": {
    "name": "ipython",
    "version": 3
   },
   "file_extension": ".py",
   "mimetype": "text/x-python",
   "name": "python",
   "nbconvert_exporter": "python",
   "pygments_lexer": "ipython3",
   "version": "3.6.1"
  }
 },
 "nbformat": 4,
 "nbformat_minor": 2
}
